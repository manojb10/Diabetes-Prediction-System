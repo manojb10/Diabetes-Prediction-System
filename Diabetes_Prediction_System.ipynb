{
  "nbformat": 4,
  "nbformat_minor": 0,
  "metadata": {
    "colab": {
      "provenance": []
    },
    "kernelspec": {
      "name": "python3",
      "display_name": "Python 3"
    },
    "language_info": {
      "name": "python"
    }
  },
  "cells": [
    {
      "cell_type": "markdown",
      "source": [
        "Loading Diabetes dataset and partitioning the 442 patients into a training set (composed of the first 422 patients) and a test set (the last 20 patients).\n",
        "\n",
        "If we apply the test set to the linear regression prediction model we will get a series of targets to be compared with the values actually observed.\n",
        "\n",
        "We can also draw the linear correlation between the ages of patients and the disease progression in the form of a scatterplot and the associated line.\n",
        "\n",
        "Since we have 10 physiological factors within the diabetes dataset. Therefore, to have a more complete picture of all the training set, we can make a linear regression for every physiological feature, creating 10 models and seeing the result for each of them through a linear chart.\n",
        "\n",
        "**Questions:**\n",
        "\n",
        "\n",
        "1. Which physiological factors from the above calculation show correlation with the target? Explain the reasoning.  \n",
        "\n",
        "2. If we combine these physiological factors that we deem influential on the target, what model can we get? Show graph and associated numbers.\n"
      ],
      "metadata": {
        "id": "17QC6F16IXP1"
      }
    },
    {
      "cell_type": "markdown",
      "source": [
        "# **Objectives**\n",
        "\n",
        "To check the physiological data of 442 patients and to predict the diabetes disease progression after an year."
      ],
      "metadata": {
        "id": "d3u1y5PzJ9Ak"
      }
    },
    {
      "cell_type": "markdown",
      "source": [
        "**1. Import Libraries**"
      ],
      "metadata": {
        "id": "KOiGd50gKadK"
      }
    },
    {
      "cell_type": "code",
      "execution_count": null,
      "metadata": {
        "id": "vYm0IYSXtxkr"
      },
      "outputs": [],
      "source": [
        "import sys\n",
        "import numpy as np\n",
        "import pandas as pd\n",
        "import scipy as sp\n",
        "import matplotlib\n",
        "import sklearn\n",
        "import statsmodels as sm\n",
        "\n",
        "from matplotlib import pyplot as plt\n",
        "from sklearn import datasets"
      ]
    },
    {
      "cell_type": "markdown",
      "source": [
        "**2. Loading Dataset and Checking Data Information**"
      ],
      "metadata": {
        "id": "IiZLM0ZLLfJP"
      }
    },
    {
      "cell_type": "code",
      "source": [
        "diabetes = datasets.load_diabetes()\n",
        "\n",
        "# Checking the summary of the data.\n",
        "\n",
        "print(diabetes.DESCR)"
      ],
      "metadata": {
        "colab": {
          "base_uri": "https://localhost:8080/"
        },
        "id": "kl0m25H6LYFv",
        "outputId": "0a8e93a7-2aec-46fa-c9da-ab48499a8e68"
      },
      "execution_count": null,
      "outputs": [
        {
          "output_type": "stream",
          "name": "stdout",
          "text": [
            ".. _diabetes_dataset:\n",
            "\n",
            "Diabetes dataset\n",
            "----------------\n",
            "\n",
            "Ten baseline variables, age, sex, body mass index, average blood\n",
            "pressure, and six blood serum measurements were obtained for each of n =\n",
            "442 diabetes patients, as well as the response of interest, a\n",
            "quantitative measure of disease progression one year after baseline.\n",
            "\n",
            "**Data Set Characteristics:**\n",
            "\n",
            "  :Number of Instances: 442\n",
            "\n",
            "  :Number of Attributes: First 10 columns are numeric predictive values\n",
            "\n",
            "  :Target: Column 11 is a quantitative measure of disease progression one year after baseline\n",
            "\n",
            "  :Attribute Information:\n",
            "      - age     age in years\n",
            "      - sex\n",
            "      - bmi     body mass index\n",
            "      - bp      average blood pressure\n",
            "      - s1      tc, total serum cholesterol\n",
            "      - s2      ldl, low-density lipoproteins\n",
            "      - s3      hdl, high-density lipoproteins\n",
            "      - s4      tch, total cholesterol / HDL\n",
            "      - s5      ltg, possibly log of serum triglycerides level\n",
            "      - s6      glu, blood sugar level\n",
            "\n",
            "Note: Each of these 10 feature variables have been mean centered and scaled by the standard deviation times `n_samples` (i.e. the sum of squares of each column totals 1).\n",
            "\n",
            "Source URL:\n",
            "https://www4.stat.ncsu.edu/~boos/var.select/diabetes.html\n",
            "\n",
            "For more information see:\n",
            "Bradley Efron, Trevor Hastie, Iain Johnstone and Robert Tibshirani (2004) \"Least Angle Regression,\" Annals of Statistics (with discussion), 407-499.\n",
            "(https://web.stanford.edu/~hastie/Papers/LARS/LeastAngle_2002.pdf)\n"
          ]
        }
      ]
    },
    {
      "cell_type": "markdown",
      "source": [
        "**3. Data Pre-processing**"
      ],
      "metadata": {
        "id": "Gwi7q6CvQH99"
      }
    },
    {
      "cell_type": "code",
      "source": [
        "# Checking the 10 values of the first patient.\n",
        "diabetes.data[0]"
      ],
      "metadata": {
        "colab": {
          "base_uri": "https://localhost:8080/"
        },
        "id": "_ahU3nGRP6F2",
        "outputId": "60c9b9ee-102f-439f-d13a-6664f6865b36"
      },
      "execution_count": null,
      "outputs": [
        {
          "output_type": "execute_result",
          "data": {
            "text/plain": [
              "array([ 0.03807591,  0.05068012,  0.06169621,  0.02187235, -0.0442235 ,\n",
              "       -0.03482076, -0.04340085, -0.00259226,  0.01990842, -0.01764613])"
            ]
          },
          "metadata": {},
          "execution_count": 4
        }
      ]
    },
    {
      "cell_type": "markdown",
      "source": [
        "**4. Splitting data into 2 types.**\n",
        "\n",
        "\n",
        "1.   Training Data\n",
        "2.   Testing Data\n",
        "\n"
      ],
      "metadata": {
        "id": "a6QX6iA0UV6M"
      }
    },
    {
      "cell_type": "code",
      "source": [
        "# Creating training and testing data using slicing technique.\n",
        "# X_ train slices values from 1st patient until last 20 patients. (i.e until patient 422).\n",
        "# X_test slices values from last 20 patients (i.e from 422) to last patient.\n",
        "\n",
        "X_train = diabetes.data[:-20]\n",
        "X_test = diabetes.data[-20:]"
      ],
      "metadata": {
        "id": "o9qwXOIpUUYn"
      },
      "execution_count": null,
      "outputs": []
    },
    {
      "cell_type": "code",
      "source": [
        "# As our data attribute is a 2-D array we get the number of rows and columns.\n",
        "X_train.shape"
      ],
      "metadata": {
        "colab": {
          "base_uri": "https://localhost:8080/"
        },
        "id": "Uj_fjzhGWpSs",
        "outputId": "638e3808-62cc-4fbc-9a0e-f60b32854647"
      },
      "execution_count": null,
      "outputs": [
        {
          "output_type": "execute_result",
          "data": {
            "text/plain": [
              "(422, 10)"
            ]
          },
          "metadata": {},
          "execution_count": 6
        }
      ]
    },
    {
      "cell_type": "code",
      "source": [
        "X_test.shape"
      ],
      "metadata": {
        "colab": {
          "base_uri": "https://localhost:8080/"
        },
        "id": "H61vXq4aWsba",
        "outputId": "f29abf4a-32e7-4edb-bc15-32dc43ed99bb"
      },
      "execution_count": null,
      "outputs": [
        {
          "output_type": "execute_result",
          "data": {
            "text/plain": [
              "(20, 10)"
            ]
          },
          "metadata": {},
          "execution_count": 7
        }
      ]
    },
    {
      "cell_type": "code",
      "source": [
        "# y_ train slices values from 1st patient until last 20 patients. (i.e until patient 422).\n",
        "# y_test slices values from last 20 patients (i.e from 422) to last patient.\n",
        "\n",
        "y_train = diabetes.target[:-20]\n",
        "y_test = diabetes.target[-20:]"
      ],
      "metadata": {
        "id": "Oslib-rCWhWq"
      },
      "execution_count": null,
      "outputs": []
    },
    {
      "cell_type": "code",
      "source": [
        "# As our target attribute is a 1-D array we get only the number of rows.\n",
        "y_train.shape"
      ],
      "metadata": {
        "colab": {
          "base_uri": "https://localhost:8080/"
        },
        "id": "Bhm6e78OX9P1",
        "outputId": "6b6a40a2-cfce-4e14-f264-20e304bceecb"
      },
      "execution_count": null,
      "outputs": [
        {
          "output_type": "execute_result",
          "data": {
            "text/plain": [
              "(422,)"
            ]
          },
          "metadata": {},
          "execution_count": 9
        }
      ]
    },
    {
      "cell_type": "code",
      "source": [
        "y_test.shape"
      ],
      "metadata": {
        "colab": {
          "base_uri": "https://localhost:8080/"
        },
        "id": "9FXh14BfX_ht",
        "outputId": "ac00e663-63da-4e40-a17e-896cb4aa312c"
      },
      "execution_count": null,
      "outputs": [
        {
          "output_type": "execute_result",
          "data": {
            "text/plain": [
              "(20,)"
            ]
          },
          "metadata": {},
          "execution_count": 10
        }
      ]
    },
    {
      "cell_type": "markdown",
      "source": [
        "**5. Linear Regression**"
      ],
      "metadata": {
        "id": "WqoKs1YuFFGv"
      }
    },
    {
      "cell_type": "code",
      "source": [
        "from sklearn.linear_model import LinearRegression # importing linear regression model."
      ],
      "metadata": {
        "id": "D_-AEyZzqIir"
      },
      "execution_count": null,
      "outputs": []
    },
    {
      "cell_type": "code",
      "source": [
        "LinReg = LinearRegression()\n",
        "LinReg.fit(X_train,y_train) # fitting the model."
      ],
      "metadata": {
        "colab": {
          "base_uri": "https://localhost:8080/"
        },
        "id": "kRjx_6qIurmU",
        "outputId": "882033f0-614b-44c4-b33a-db48ed6752b6"
      },
      "execution_count": null,
      "outputs": [
        {
          "output_type": "execute_result",
          "data": {
            "text/plain": [
              "LinearRegression()"
            ]
          },
          "metadata": {},
          "execution_count": 12
        }
      ]
    },
    {
      "cell_type": "code",
      "source": [
        "# Displaying the array of weights estimated by Linear regression.\n",
        "# As we have only one target value we get each coefficient for the 10 physiological variables.\n",
        "\n",
        "print('Coefficients: ',LinReg.coef_)"
      ],
      "metadata": {
        "colab": {
          "base_uri": "https://localhost:8080/"
        },
        "id": "ZAfy57aOvMCT",
        "outputId": "c3d54e24-6618-4dbb-bd2b-d17984086912"
      },
      "execution_count": null,
      "outputs": [
        {
          "output_type": "stream",
          "name": "stdout",
          "text": [
            "Coefficients:  [ 3.03499549e-01 -2.37639315e+02  5.10530605e+02  3.27736980e+02\n",
            " -8.14131709e+02  4.92814588e+02  1.02848452e+02  1.84606489e+02\n",
            "  7.43519617e+02  7.60951722e+01]\n"
          ]
        }
      ]
    },
    {
      "cell_type": "code",
      "source": [
        "# As testing data contains the last 20 patients data, this is a prediction of the series of targets to be compared with actual values.\n",
        "LinReg.predict(X_test)"
      ],
      "metadata": {
        "colab": {
          "base_uri": "https://localhost:8080/"
        },
        "id": "f9DuVhDQ0-ZF",
        "outputId": "c3951707-6120-4a06-ad68-ce8ab543f9f9"
      },
      "execution_count": null,
      "outputs": [
        {
          "output_type": "execute_result",
          "data": {
            "text/plain": [
              "array([197.61846908, 155.43979328, 172.88665147, 111.53537279,\n",
              "       164.80054784, 131.06954875, 259.12237761, 100.47935157,\n",
              "       117.0601052 , 124.30503555, 218.36632793,  61.19831284,\n",
              "       132.25046751, 120.3332925 ,  52.54458691, 194.03798088,\n",
              "       102.57139702, 123.56604987, 211.0346317 ,  52.60335674])"
            ]
          },
          "metadata": {},
          "execution_count": 14
        }
      ]
    },
    {
      "cell_type": "code",
      "source": [
        "y_test"
      ],
      "metadata": {
        "colab": {
          "base_uri": "https://localhost:8080/"
        },
        "id": "VauuOayt2zYd",
        "outputId": "3f2fa4e5-330b-4ffb-b88a-f849b906927d"
      },
      "execution_count": null,
      "outputs": [
        {
          "output_type": "execute_result",
          "data": {
            "text/plain": [
              "array([233.,  91., 111., 152., 120.,  67., 310.,  94., 183.,  66., 173.,\n",
              "        72.,  49.,  64.,  48., 178., 104., 132., 220.,  57.])"
            ]
          },
          "metadata": {},
          "execution_count": 15
        }
      ]
    },
    {
      "cell_type": "code",
      "source": [
        "# Let's check the regression score which compares the actual and predicted values and check how close the values are.\n",
        "\n",
        "LinReg.score(X_test,y_test)\n",
        "# We can see that they are only 58 % close to each other.But they should be close to 100 % i.e 1."
      ],
      "metadata": {
        "colab": {
          "base_uri": "https://localhost:8080/"
        },
        "id": "XFkAEeCKDQIZ",
        "outputId": "406d4c5d-32cf-4c84-bfee-b1487445d519"
      },
      "execution_count": null,
      "outputs": [
        {
          "output_type": "execute_result",
          "data": {
            "text/plain": [
              "0.5850753022690575"
            ]
          },
          "metadata": {},
          "execution_count": 16
        }
      ]
    },
    {
      "cell_type": "markdown",
      "source": [
        "Let's check one physiological factor and perform Linear regression, so that we may get better variance.  "
      ],
      "metadata": {
        "id": "L48IAgKeFTYc"
      }
    },
    {
      "cell_type": "code",
      "source": [
        "# Taking the partitioned data into consideration, we create another pair of variables to store the values of a single factor.\n",
        "\n",
        "X0_train = X_train[:,0] # creating an independent variable taking all patients details from column 0.\n",
        "X0_test = X_test[:,0] # creating a dependent variable taking all patients details from column 0."
      ],
      "metadata": {
        "id": "T6nThZk5FBge"
      },
      "execution_count": null,
      "outputs": []
    },
    {
      "cell_type": "code",
      "source": [
        "X0_train.shape"
      ],
      "metadata": {
        "colab": {
          "base_uri": "https://localhost:8080/"
        },
        "id": "ucu3y3rOiOeb",
        "outputId": "ac185e80-a3e2-4bda-ab53-e56dd869d805"
      },
      "execution_count": null,
      "outputs": [
        {
          "output_type": "execute_result",
          "data": {
            "text/plain": [
              "(422,)"
            ]
          },
          "metadata": {},
          "execution_count": 18
        }
      ]
    },
    {
      "cell_type": "code",
      "source": [
        "X0_test.shape"
      ],
      "metadata": {
        "colab": {
          "base_uri": "https://localhost:8080/"
        },
        "id": "7bByht9eiWI5",
        "outputId": "cba3414a-ac80-4c28-c8ba-58533cf95472"
      },
      "execution_count": null,
      "outputs": [
        {
          "output_type": "execute_result",
          "data": {
            "text/plain": [
              "(20,)"
            ]
          },
          "metadata": {},
          "execution_count": 19
        }
      ]
    },
    {
      "cell_type": "code",
      "source": [
        "# As an array needs to have 2 dimensions we add a newaxis i.e dimension using numpy library.\n",
        "X0_train = X0_train[:,np.newaxis]\n",
        "X0_train.shape"
      ],
      "metadata": {
        "colab": {
          "base_uri": "https://localhost:8080/"
        },
        "id": "bEEMO9AWinyG",
        "outputId": "adb3ee67-e28e-48c2-cbb2-69a4a6b7ca93"
      },
      "execution_count": null,
      "outputs": [
        {
          "output_type": "execute_result",
          "data": {
            "text/plain": [
              "(422, 1)"
            ]
          },
          "metadata": {},
          "execution_count": 20
        }
      ]
    },
    {
      "cell_type": "code",
      "source": [
        "X0_test = X0_test[:,np.newaxis]\n",
        "X0_test.shape\n"
      ],
      "metadata": {
        "colab": {
          "base_uri": "https://localhost:8080/"
        },
        "id": "g-XQEKQIiFP-",
        "outputId": "0d09ab0a-f3f3-4c9c-d831-89181c668284"
      },
      "execution_count": null,
      "outputs": [
        {
          "output_type": "execute_result",
          "data": {
            "text/plain": [
              "(20, 1)"
            ]
          },
          "metadata": {},
          "execution_count": 21
        }
      ]
    },
    {
      "cell_type": "code",
      "source": [
        "# Now applying linear regression model\n",
        "\n",
        "LinReg0 = LinearRegression()\n",
        "LinReg0.fit(X0_train,y_train)"
      ],
      "metadata": {
        "colab": {
          "base_uri": "https://localhost:8080/"
        },
        "id": "BRYcVPRnjDca",
        "outputId": "0e98bfd2-00c4-4b19-c33f-a042ef118738"
      },
      "execution_count": null,
      "outputs": [
        {
          "output_type": "execute_result",
          "data": {
            "text/plain": [
              "LinearRegression()"
            ]
          },
          "metadata": {},
          "execution_count": 22
        }
      ]
    },
    {
      "cell_type": "code",
      "source": [
        "# As testing data contains the last 20 patients data, this is a prediction of the series of targets to be compared with actual values.\n",
        "y = LinReg0.predict(X0_test)"
      ],
      "metadata": {
        "id": "Cxs23qsmkofe"
      },
      "execution_count": null,
      "outputs": []
    },
    {
      "cell_type": "code",
      "source": [
        "# Plotting the graph using matplotlib library for the column 0 values.\n",
        "\n",
        "plt.xlim(-0.1,0.1)\n",
        "plt.ylim(0,350)\n",
        "plt.scatter(X0_test,y_test,color='black') # plots the correlation points of the features and the target values. i.e actual outcome.\n",
        "plt.plot(X0_test,y,color='blue',linewidth=3) # plots linear regression outcome of the features and the predicted values. i.e predicted outcome.\n",
        "plt.show() # displays the graph."
      ],
      "metadata": {
        "colab": {
          "base_uri": "https://localhost:8080/",
          "height": 269
        },
        "id": "Vy9Q6lpjlzIt",
        "outputId": "e56a2bd7-ab75-4edc-94fb-f44f20efb70c"
      },
      "execution_count": null,
      "outputs": [
        {
          "output_type": "display_data",
          "data": {
            "text/plain": [
              "<Figure size 432x288 with 1 Axes>"
            ],
            "image/png": "[encoded data removed]"
          },
          "metadata": {
            "needs_background": "light"
          }
        }
      ]
    },
    {
      "cell_type": "markdown",
      "source": [
        "The above chart represents the linear correlation between the feature and targets."
      ],
      "metadata": {
        "id": "oyJtEMbpwUyF"
      }
    },
    {
      "cell_type": "markdown",
      "source": [
        "Let's check all the physiological factors at once to have a complete picture of all the training set."
      ],
      "metadata": {
        "id": "pB2-0b6-vXYL"
      }
    },
    {
      "cell_type": "code",
      "source": [
        "# Using the same partitioned data to test all the factors through linear regression model.\n",
        "\n",
        "# Using a for loop condition to set the range for all factors.\n",
        "for n in range(0,10):\n",
        "  XAll_train = X_train[:,n] # creating an independent variable taking all patients details from column 0 to 10 i.e all columns.\n",
        "  XAll_test = X_test[:,n] # creating a dependent variable taking all patients details from column 0 to 10 i.e all columns.\n",
        "  # As an array needs to have 2 dimensions we add a newaxis i.e dimension using numpy library.\n",
        "  XAll_train = XAll_train[:,np.newaxis]\n",
        "  XAll_test = XAll_test[:,np.newaxis]\n",
        "  # Fitting the linear regression model to the training and testing variables.\n",
        "  LinRegAll = LinearRegression()\n",
        "  LinRegAll.fit(XAll_train,y_train)\n",
        "  yAll = LinRegAll.predict(XAll_test)\n",
        "  plt.figure(figsize=(15,20))\n",
        "  # As we more than 1 linear charts to be plotted we use subplot function to plot all at once.\n",
        "  plt.subplot(5,2,10) # giving range 5 rows, 2 columns and no. of plots, in our case it's 10 graphs.\n",
        "  plt.xlim(-0.15,0.20) # giving x-axis range\n",
        "  plt.ylim(0,350) # giving y-axis range\n",
        "  plt.scatter(XAll_test,y_test,color='black') # plotting scattered test data\n",
        "  plt.plot(XAll_test,yAll,color='blue',linewidth=3) # plotting regression line\n"
      ],
      "metadata": {
        "colab": {
          "base_uri": "https://localhost:8080/",
          "height": 1000
        },
        "id": "g7gMK9qXvIbP",
        "outputId": "83f6e74b-39fd-4250-93ea-87c50f475d5d"
      },
      "execution_count": null,
      "outputs": [
        {
          "output_type": "display_data",
          "data": {
            "text/plain": [
              "<Figure size 1080x1440 with 1 Axes>"
            ],
            "image/png": "[encoded data removed]"
          },
          "metadata": {
            "needs_background": "light"
          }
        },
        {
          "output_type": "display_data",
          "data": {
            "text/plain": [
              "<Figure size 1080x1440 with 1 Axes>"
            ],
            "image/png": "[encoded data removed]"
          },
          "metadata": {
            "needs_background": "light"
          }
        },
        {
          "output_type": "display_data",
          "data": {
            "text/plain": [
              "<Figure size 1080x1440 with 1 Axes>"
            ],
            "image/png": "[encoded data removed]"
          },
          "metadata": {
            "needs_background": "light"
          }
        },
        {
          "output_type": "display_data",
          "data": {
            "text/plain": [
              "<Figure size 1080x1440 with 1 Axes>"
            ],
            "image/png": "[encoded data removed]"
          },
          "metadata": {
            "needs_background": "light"
          }
        },
        {
          "output_type": "display_data",
          "data": {
            "text/plain": [
              "<Figure size 1080x1440 with 1 Axes>"
            ],
            "image/png": "[encoded data removed]"
          },
          "metadata": {
            "needs_background": "light"
          }
        },
        {
          "output_type": "display_data",
          "data": {
            "text/plain": [
              "<Figure size 1080x1440 with 1 Axes>"
            ],
            "image/png": "[encoded data removed]"
          },
          "metadata": {
            "needs_background": "light"
          }
        },
        {
          "output_type": "display_data",
          "data": {
            "text/plain": [
              "<Figure size 1080x1440 with 1 Axes>"
            ],
            "image/png": "[encoded data removed]"
          },
          "metadata": {
            "needs_background": "light"
          }
        },
        {
          "output_type": "display_data",
          "data": {
            "text/plain": [
              "<Figure size 1080x1440 with 1 Axes>"
            ],
            "image/png": "[encoded data removed]"
          },
          "metadata": {
            "needs_background": "light"
          }
        },
        {
          "output_type": "display_data",
          "data": {
            "text/plain": [
              "<Figure size 1080x1440 with 1 Axes>"
            ],
            "image/png": "[encoded data removed]"
          },
          "metadata": {
            "needs_background": "light"
          }
        },
        {
          "output_type": "display_data",
          "data": {
            "text/plain": [
              "<Figure size 1080x1440 with 1 Axes>"
            ],
            "image/png": "[encoded data removed]"
          },
          "metadata": {
            "needs_background": "light"
          }
        }
      ]
    },
    {
      "cell_type": "markdown",
      "source": [
        "**6. Correlation check using Statsmodel**"
      ],
      "metadata": {
        "id": "Hd7rDNa88AiU"
      }
    },
    {
      "cell_type": "code",
      "source": [
        "# Now checking which physiological factor shows correlation with the target.\n",
        "\n",
        "# We use statsmodels library which is used to identify which factors are statiscally significant.\n",
        "\n",
        "# Converting our data to pandas dataframe to use statsmodels method.\n",
        "\n",
        "diabetes_df = pd.DataFrame(diabetes.data,columns=diabetes.feature_names) # converts our data to pandas dataframe and feature names displays the column names.\n",
        "\n",
        "diabetes_df['progression']=diabetes.target # adding the target column to the dataframe."
      ],
      "metadata": {
        "id": "jgISwdqPQH2H"
      },
      "execution_count": null,
      "outputs": []
    },
    {
      "cell_type": "code",
      "source": [
        "diabetes_df.head() # top 5 values."
      ],
      "metadata": {
        "colab": {
          "base_uri": "https://localhost:8080/",
          "height": 206
        },
        "id": "LsPiAxaod3ER",
        "outputId": "31a6672d-df00-4f20-9a48-3d21633b4b87"
      },
      "execution_count": null,
      "outputs": [
        {
          "output_type": "execute_result",
          "data": {
            "text/plain": [
              "        age       sex       bmi        bp        s1        s2        s3  \\\n",
              "0  0.038076  0.050680  0.061696  0.021872 -0.044223 -0.034821 -0.043401   \n",
              "1 -0.001882 -0.044642 -0.051474 -0.026328 -0.008449 -0.019163  0.074412   \n",
              "2  0.085299  0.050680  0.044451 -0.005671 -0.045599 -0.034194 -0.032356   \n",
              "3 -0.089063 -0.044642 -0.011595 -0.036656  0.012191  0.024991 -0.036038   \n",
              "4  0.005383 -0.044642 -0.036385  0.021872  0.003935  0.015596  0.008142   \n",
              "\n",
              "         s4        s5        s6  progression  \n",
              "0 -0.002592  0.019908 -0.017646        151.0  \n",
              "1 -0.039493 -0.068330 -0.092204         75.0  \n",
              "2 -0.002592  0.002864 -0.025930        141.0  \n",
              "3  0.034309  0.022692 -0.009362        206.0  \n",
              "4 -0.002592 -0.031991 -0.046641        135.0  "
            ],
            "text/html": [
              "\n",
              "  <div id=\"df-05b88bc4-0ecc-43d3-83d3-359b8a603ad3\">\n",
              "    <div class=\"colab-df-container\">\n",
              "      <div>\n",
              "<style scoped>\n",
              "    .dataframe tbody tr th:only-of-type {\n",
              "        vertical-align: middle;\n",
              "    }\n",
              "\n",
              "    .dataframe tbody tr th {\n",
              "        vertical-align: top;\n",
              "    }\n",
              "\n",
              "    .dataframe thead th {\n",
              "        text-align: right;\n",
              "    }\n",
              "</style>\n",
              "<table border=\"1\" class=\"dataframe\">\n",
              "  <thead>\n",
              "    <tr style=\"text-align: right;\">\n",
              "      <th></th>\n",
              "      <th>age</th>\n",
              "      <th>sex</th>\n",
              "      <th>bmi</th>\n",
              "      <th>bp</th>\n",
              "      <th>s1</th>\n",
              "      <th>s2</th>\n",
              "      <th>s3</th>\n",
              "      <th>s4</th>\n",
              "      <th>s5</th>\n",
              "      <th>s6</th>\n",
              "      <th>progression</th>\n",
              "    </tr>\n",
              "  </thead>\n",
              "  <tbody>\n",
              "    <tr>\n",
              "      <th>0</th>\n",
              "      <td>0.038076</td>\n",
              "      <td>0.050680</td>\n",
              "      <td>0.061696</td>\n",
              "      <td>0.021872</td>\n",
              "      <td>-0.044223</td>\n",
              "      <td>-0.034821</td>\n",
              "      <td>-0.043401</td>\n",
              "      <td>-0.002592</td>\n",
              "      <td>0.019908</td>\n",
              "      <td>-0.017646</td>\n",
              "      <td>151.0</td>\n",
              "    </tr>\n",
              "    <tr>\n",
              "      <th>1</th>\n",
              "      <td>-0.001882</td>\n",
              "      <td>-0.044642</td>\n",
              "      <td>-0.051474</td>\n",
              "      <td>-0.026328</td>\n",
              "      <td>-0.008449</td>\n",
              "      <td>-0.019163</td>\n",
              "      <td>0.074412</td>\n",
              "      <td>-0.039493</td>\n",
              "      <td>-0.068330</td>\n",
              "      <td>-0.092204</td>\n",
              "      <td>75.0</td>\n",
              "    </tr>\n",
              "    <tr>\n",
              "      <th>2</th>\n",
              "      <td>0.085299</td>\n",
              "      <td>0.050680</td>\n",
              "      <td>0.044451</td>\n",
              "      <td>-0.005671</td>\n",
              "      <td>-0.045599</td>\n",
              "      <td>-0.034194</td>\n",
              "      <td>-0.032356</td>\n",
              "      <td>-0.002592</td>\n",
              "      <td>0.002864</td>\n",
              "      <td>-0.025930</td>\n",
              "      <td>141.0</td>\n",
              "    </tr>\n",
              "    <tr>\n",
              "      <th>3</th>\n",
              "      <td>-0.089063</td>\n",
              "      <td>-0.044642</td>\n",
              "      <td>-0.011595</td>\n",
              "      <td>-0.036656</td>\n",
              "      <td>0.012191</td>\n",
              "      <td>0.024991</td>\n",
              "      <td>-0.036038</td>\n",
              "      <td>0.034309</td>\n",
              "      <td>0.022692</td>\n",
              "      <td>-0.009362</td>\n",
              "      <td>206.0</td>\n",
              "    </tr>\n",
              "    <tr>\n",
              "      <th>4</th>\n",
              "      <td>0.005383</td>\n",
              "      <td>-0.044642</td>\n",
              "      <td>-0.036385</td>\n",
              "      <td>0.021872</td>\n",
              "      <td>0.003935</td>\n",
              "      <td>0.015596</td>\n",
              "      <td>0.008142</td>\n",
              "      <td>-0.002592</td>\n",
              "      <td>-0.031991</td>\n",
              "      <td>-0.046641</td>\n",
              "      <td>135.0</td>\n",
              "    </tr>\n",
              "  </tbody>\n",
              "</table>\n",
              "</div>\n",
              "      <button class=\"colab-df-convert\" onclick=\"convertToInteractive('df-05b88bc4-0ecc-43d3-83d3-359b8a603ad3')\"\n",
              "              title=\"Convert this dataframe to an interactive table.\"\n",
              "              style=\"display:none;\">\n",
              "        \n",
              "  <svg xmlns=\"http://www.w3.org/2000/svg\" height=\"24px\"viewBox=\"0 0 24 24\"\n",
              "       width=\"24px\">\n",
              "    <path d=\"M0 0h24v24H0V0z\" fill=\"none\"/>\n",
              "    <path d=\"M18.56 5.44l.94 2.06.94-2.06 2.06-.94-2.06-.94-.94-2.06-.94 2.06-2.06.94zm-11 1L8.5 8.5l.94-2.06 2.06-.94-2.06-.94L8.5 2.5l-.94 2.06-2.06.94zm10 10l.94 2.06.94-2.06 2.06-.94-2.06-.94-.94-2.06-.94 2.06-2.06.94z\"/><path d=\"M17.41 7.96l-1.37-1.37c-.4-.4-.92-.59-1.43-.59-.52 0-1.04.2-1.43.59L10.3 9.45l-7.72 7.72c-.78.78-.78 2.05 0 2.83L4 21.41c.39.39.9.59 1.41.59.51 0 1.02-.2 1.41-.59l7.78-7.78 2.81-2.81c.8-.78.8-2.07 0-2.86zM5.41 20L4 18.59l7.72-7.72 1.47 1.35L5.41 20z\"/>\n",
              "  </svg>\n",
              "      </button>\n",
              "      \n",
              "  <style>\n",
              "    .colab-df-container {\n",
              "      display:flex;\n",
              "      flex-wrap:wrap;\n",
              "      gap: 12px;\n",
              "    }\n",
              "\n",
              "    .colab-df-convert {\n",
              "      background-color: #E8F0FE;\n",
              "      border: none;\n",
              "      border-radius: 50%;\n",
              "      cursor: pointer;\n",
              "      display: none;\n",
              "      fill: #1967D2;\n",
              "      height: 32px;\n",
              "      padding: 0 0 0 0;\n",
              "      width: 32px;\n",
              "    }\n",
              "\n",
              "    .colab-df-convert:hover {\n",
              "      background-color: #E2EBFA;\n",
              "      box-shadow: 0px 1px 2px rgba(60, 64, 67, 0.3), 0px 1px 3px 1px rgba(60, 64, 67, 0.15);\n",
              "      fill: #174EA6;\n",
              "    }\n",
              "\n",
              "    [theme=dark] .colab-df-convert {\n",
              "      background-color: #3B4455;\n",
              "      fill: #D2E3FC;\n",
              "    }\n",
              "\n",
              "    [theme=dark] .colab-df-convert:hover {\n",
              "      background-color: #434B5C;\n",
              "      box-shadow: 0px 1px 3px 1px rgba(0, 0, 0, 0.15);\n",
              "      filter: drop-shadow(0px 1px 2px rgba(0, 0, 0, 0.3));\n",
              "      fill: #FFFFFF;\n",
              "    }\n",
              "  </style>\n",
              "\n",
              "      <script>\n",
              "        const buttonEl =\n",
              "          document.querySelector('#df-05b88bc4-0ecc-43d3-83d3-359b8a603ad3 button.colab-df-convert');\n",
              "        buttonEl.style.display =\n",
              "          google.colab.kernel.accessAllowed ? 'block' : 'none';\n",
              "\n",
              "        async function convertToInteractive(key) {\n",
              "          const element = document.querySelector('#df-05b88bc4-0ecc-43d3-83d3-359b8a603ad3');\n",
              "          const dataTable =\n",
              "            await google.colab.kernel.invokeFunction('convertToInteractive',\n",
              "                                                     [key], {});\n",
              "          if (!dataTable) return;\n",
              "\n",
              "          const docLinkHtml = 'Like what you see? Visit the ' +\n",
              "            '<a target=\"_blank\" href=https://colab.research.google.com/notebooks/data_table.ipynb>data table notebook</a>'\n",
              "            + ' to learn more about interactive tables.';\n",
              "          element.innerHTML = '';\n",
              "          dataTable['output_type'] = 'display_data';\n",
              "          await google.colab.output.renderOutput(dataTable, element);\n",
              "          const docLink = document.createElement('div');\n",
              "          docLink.innerHTML = docLinkHtml;\n",
              "          element.appendChild(docLink);\n",
              "        }\n",
              "      </script>\n",
              "    </div>\n",
              "  </div>\n",
              "  "
            ]
          },
          "metadata": {},
          "execution_count": 27
        }
      ]
    },
    {
      "cell_type": "code",
      "source": [
        "X = diabetes_df[['age','sex','bmi','bp','s1','s2','s3','s4','s5','s6']] # assigning data column values to an independent variable."
      ],
      "metadata": {
        "id": "jpRq-wEIeM99"
      },
      "execution_count": null,
      "outputs": []
    },
    {
      "cell_type": "code",
      "source": [
        "y = diabetes_df.progression # assigning target column values to dependent variable."
      ],
      "metadata": {
        "id": "k79JeFPWfSq3"
      },
      "execution_count": null,
      "outputs": []
    },
    {
      "cell_type": "code",
      "source": [
        "from statsmodels.api import add_constant # using add constant method from statsmodel\n",
        "X = add_constant(X)\n",
        "X['const'].head()"
      ],
      "metadata": {
        "colab": {
          "base_uri": "https://localhost:8080/"
        },
        "id": "Pu5xqLgEf4au",
        "outputId": "767e845e-6ebc-4daf-e5d4-5fe45d2debc2"
      },
      "execution_count": null,
      "outputs": [
        {
          "output_type": "stream",
          "name": "stderr",
          "text": [
            "/usr/local/lib/python3.7/dist-packages/statsmodels/tsa/tsatools.py:142: FutureWarning: In a future version of pandas all arguments of concat except for the argument 'objs' will be keyword-only\n",
            "  x = pd.concat(x[::order], 1)\n"
          ]
        },
        {
          "output_type": "execute_result",
          "data": {
            "text/plain": [
              "0    1.0\n",
              "1    1.0\n",
              "2    1.0\n",
              "3    1.0\n",
              "4    1.0\n",
              "Name: const, dtype: float64"
            ]
          },
          "metadata": {},
          "execution_count": 30
        }
      ]
    },
    {
      "cell_type": "code",
      "source": [
        "# Let's import the linear regression model here\n",
        "\n",
        "from statsmodels.api import OLS # OLS is the linear regression model from statsmodel library."
      ],
      "metadata": {
        "id": "EyCJ2PgtgE11"
      },
      "execution_count": null,
      "outputs": []
    },
    {
      "cell_type": "code",
      "source": [
        "LinReg_test = OLS(y,X).fit()  # we fit the model\n",
        "LinReg_test.summary() # gives the summary values."
      ],
      "metadata": {
        "colab": {
          "base_uri": "https://localhost:8080/",
          "height": 628
        },
        "id": "Ytqwe1HVgd_I",
        "outputId": "42cccdce-a6a9-42e4-d58e-5289def3b53e"
      },
      "execution_count": null,
      "outputs": [
        {
          "output_type": "execute_result",
          "data": {
            "text/plain": [
              "<class 'statsmodels.iolib.summary.Summary'>\n",
              "\"\"\"\n",
              "                            OLS Regression Results                            \n",
              "==============================================================================\n",
              "Dep. Variable:            progression   R-squared:                       0.518\n",
              "Model:                            OLS   Adj. R-squared:                  0.507\n",
              "Method:                 Least Squares   F-statistic:                     46.27\n",
              "Date:                Thu, 20 Oct 2022   Prob (F-statistic):           3.83e-62\n",
              "Time:                        04:00:10   Log-Likelihood:                -2386.0\n",
              "No. Observations:                 442   AIC:                             4794.\n",
              "Df Residuals:                     431   BIC:                             4839.\n",
              "Df Model:                          10                                         \n",
              "Covariance Type:            nonrobust                                         \n",
              "==============================================================================\n",
              "                 coef    std err          t      P>|t|      [0.025      0.975]\n",
              "------------------------------------------------------------------------------\n",
              "const        152.1335      2.576     59.061      0.000     147.071     157.196\n",
              "age          -10.0122     59.749     -0.168      0.867    -127.448     107.424\n",
              "sex         -239.8191     61.222     -3.917      0.000    -360.151    -119.488\n",
              "bmi          519.8398     66.534      7.813      0.000     389.069     650.610\n",
              "bp           324.3904     65.422      4.958      0.000     195.805     452.976\n",
              "s1          -792.1842    416.684     -1.901      0.058   -1611.169      26.801\n",
              "s2           476.7458    339.035      1.406      0.160    -189.621    1143.113\n",
              "s3           101.0446    212.533      0.475      0.635    -316.685     518.774\n",
              "s4           177.0642    161.476      1.097      0.273    -140.313     494.442\n",
              "s5           751.2793    171.902      4.370      0.000     413.409    1089.150\n",
              "s6            67.6254     65.984      1.025      0.306     -62.065     197.316\n",
              "==============================================================================\n",
              "Omnibus:                        1.506   Durbin-Watson:                   2.029\n",
              "Prob(Omnibus):                  0.471   Jarque-Bera (JB):                1.404\n",
              "Skew:                           0.017   Prob(JB):                        0.496\n",
              "Kurtosis:                       2.726   Cond. No.                         227.\n",
              "==============================================================================\n",
              "\n",
              "Notes:\n",
              "[1] Standard Errors assume that the covariance matrix of the errors is correctly specified.\n",
              "\"\"\""
            ],
            "text/html": [
              "<table class=\"simpletable\">\n",
              "<caption>OLS Regression Results</caption>\n",
              "<tr>\n",
              "  <th>Dep. Variable:</th>       <td>progression</td>   <th>  R-squared:         </th> <td>   0.518</td>\n",
              "</tr>\n",
              "<tr>\n",
              "  <th>Model:</th>                   <td>OLS</td>       <th>  Adj. R-squared:    </th> <td>   0.507</td>\n",
              "</tr>\n",
              "<tr>\n",
              "  <th>Method:</th>             <td>Least Squares</td>  <th>  F-statistic:       </th> <td>   46.27</td>\n",
              "</tr>\n",
              "<tr>\n",
              "  <th>Date:</th>             <td>Thu, 20 Oct 2022</td> <th>  Prob (F-statistic):</th> <td>3.83e-62</td>\n",
              "</tr>\n",
              "<tr>\n",
              "  <th>Time:</th>                 <td>04:00:10</td>     <th>  Log-Likelihood:    </th> <td> -2386.0</td>\n",
              "</tr>\n",
              "<tr>\n",
              "  <th>No. Observations:</th>      <td>   442</td>      <th>  AIC:               </th> <td>   4794.</td>\n",
              "</tr>\n",
              "<tr>\n",
              "  <th>Df Residuals:</th>          <td>   431</td>      <th>  BIC:               </th> <td>   4839.</td>\n",
              "</tr>\n",
              "<tr>\n",
              "  <th>Df Model:</th>              <td>    10</td>      <th>                     </th>     <td> </td>   \n",
              "</tr>\n",
              "<tr>\n",
              "  <th>Covariance Type:</th>      <td>nonrobust</td>    <th>                     </th>     <td> </td>   \n",
              "</tr>\n",
              "</table>\n",
              "<table class=\"simpletable\">\n",
              "<tr>\n",
              "    <td></td>       <th>coef</th>     <th>std err</th>      <th>t</th>      <th>P>|t|</th>  <th>[0.025</th>    <th>0.975]</th>  \n",
              "</tr>\n",
              "<tr>\n",
              "  <th>const</th> <td>  152.1335</td> <td>    2.576</td> <td>   59.061</td> <td> 0.000</td> <td>  147.071</td> <td>  157.196</td>\n",
              "</tr>\n",
              "<tr>\n",
              "  <th>age</th>   <td>  -10.0122</td> <td>   59.749</td> <td>   -0.168</td> <td> 0.867</td> <td> -127.448</td> <td>  107.424</td>\n",
              "</tr>\n",
              "<tr>\n",
              "  <th>sex</th>   <td> -239.8191</td> <td>   61.222</td> <td>   -3.917</td> <td> 0.000</td> <td> -360.151</td> <td> -119.488</td>\n",
              "</tr>\n",
              "<tr>\n",
              "  <th>bmi</th>   <td>  519.8398</td> <td>   66.534</td> <td>    7.813</td> <td> 0.000</td> <td>  389.069</td> <td>  650.610</td>\n",
              "</tr>\n",
              "<tr>\n",
              "  <th>bp</th>    <td>  324.3904</td> <td>   65.422</td> <td>    4.958</td> <td> 0.000</td> <td>  195.805</td> <td>  452.976</td>\n",
              "</tr>\n",
              "<tr>\n",
              "  <th>s1</th>    <td> -792.1842</td> <td>  416.684</td> <td>   -1.901</td> <td> 0.058</td> <td>-1611.169</td> <td>   26.801</td>\n",
              "</tr>\n",
              "<tr>\n",
              "  <th>s2</th>    <td>  476.7458</td> <td>  339.035</td> <td>    1.406</td> <td> 0.160</td> <td> -189.621</td> <td> 1143.113</td>\n",
              "</tr>\n",
              "<tr>\n",
              "  <th>s3</th>    <td>  101.0446</td> <td>  212.533</td> <td>    0.475</td> <td> 0.635</td> <td> -316.685</td> <td>  518.774</td>\n",
              "</tr>\n",
              "<tr>\n",
              "  <th>s4</th>    <td>  177.0642</td> <td>  161.476</td> <td>    1.097</td> <td> 0.273</td> <td> -140.313</td> <td>  494.442</td>\n",
              "</tr>\n",
              "<tr>\n",
              "  <th>s5</th>    <td>  751.2793</td> <td>  171.902</td> <td>    4.370</td> <td> 0.000</td> <td>  413.409</td> <td> 1089.150</td>\n",
              "</tr>\n",
              "<tr>\n",
              "  <th>s6</th>    <td>   67.6254</td> <td>   65.984</td> <td>    1.025</td> <td> 0.306</td> <td>  -62.065</td> <td>  197.316</td>\n",
              "</tr>\n",
              "</table>\n",
              "<table class=\"simpletable\">\n",
              "<tr>\n",
              "  <th>Omnibus:</th>       <td> 1.506</td> <th>  Durbin-Watson:     </th> <td>   2.029</td>\n",
              "</tr>\n",
              "<tr>\n",
              "  <th>Prob(Omnibus):</th> <td> 0.471</td> <th>  Jarque-Bera (JB):  </th> <td>   1.404</td>\n",
              "</tr>\n",
              "<tr>\n",
              "  <th>Skew:</th>          <td> 0.017</td> <th>  Prob(JB):          </th> <td>   0.496</td>\n",
              "</tr>\n",
              "<tr>\n",
              "  <th>Kurtosis:</th>      <td> 2.726</td> <th>  Cond. No.          </th> <td>    227.</td>\n",
              "</tr>\n",
              "</table><br/><br/>Notes:<br/>[1] Standard Errors assume that the covariance matrix of the errors is correctly specified."
            ]
          },
          "metadata": {},
          "execution_count": 32
        }
      ]
    },
    {
      "cell_type": "code",
      "source": [
        "X.drop('age',axis=1,inplace=True) # dropping columns with higher probability."
      ],
      "metadata": {
        "id": "gJ8ii0TqqQPP"
      },
      "execution_count": null,
      "outputs": []
    },
    {
      "cell_type": "code",
      "source": [
        "X.drop('s3',axis=1,inplace=True)"
      ],
      "metadata": {
        "id": "A_8PHrMHruma"
      },
      "execution_count": null,
      "outputs": []
    },
    {
      "cell_type": "code",
      "source": [
        "X.drop('s2',axis=1,inplace=True)"
      ],
      "metadata": {
        "id": "EcHlLspUsWgt"
      },
      "execution_count": null,
      "outputs": []
    },
    {
      "cell_type": "code",
      "source": [
        "X.drop('s6',axis=1,inplace=True)"
      ],
      "metadata": {
        "id": "g5h74Raxs00-"
      },
      "execution_count": null,
      "outputs": []
    },
    {
      "cell_type": "code",
      "source": [
        "LinReg_test1 = OLS(y,X).fit() # rechecking the model\n",
        "LinReg_test1.summary()"
      ],
      "metadata": {
        "colab": {
          "base_uri": "https://localhost:8080/",
          "height": 545
        },
        "id": "NFpRXahIqxR3",
        "outputId": "8c2d6fdb-418c-4660-8744-2e5650eae457"
      },
      "execution_count": null,
      "outputs": [
        {
          "output_type": "execute_result",
          "data": {
            "text/plain": [
              "<class 'statsmodels.iolib.summary.Summary'>\n",
              "\"\"\"\n",
              "                            OLS Regression Results                            \n",
              "==============================================================================\n",
              "Dep. Variable:            progression   R-squared:                       0.513\n",
              "Model:                            OLS   Adj. R-squared:                  0.507\n",
              "Method:                 Least Squares   F-statistic:                     76.51\n",
              "Date:                Thu, 20 Oct 2022   Prob (F-statistic):           5.71e-65\n",
              "Time:                        04:00:10   Log-Likelihood:                -2388.0\n",
              "No. Observations:                 442   AIC:                             4790.\n",
              "Df Residuals:                     435   BIC:                             4819.\n",
              "Df Model:                           6                                         \n",
              "Covariance Type:            nonrobust                                         \n",
              "==============================================================================\n",
              "                 coef    std err          t      P>|t|      [0.025      0.975]\n",
              "------------------------------------------------------------------------------\n",
              "const        152.1335      2.575     59.072      0.000     147.072     157.195\n",
              "sex         -224.9789     60.186     -3.738      0.000    -343.270    -106.688\n",
              "bmi          548.6486     64.565      8.498      0.000     421.750     675.547\n",
              "bp           334.4542     63.062      5.304      0.000     210.510     458.398\n",
              "s1          -306.4788     68.411     -4.480      0.000    -440.936    -172.022\n",
              "s4           279.2124     80.134      3.484      0.001     121.715     436.710\n",
              "s5           558.9589     76.305      7.325      0.000     408.987     708.930\n",
              "==============================================================================\n",
              "Omnibus:                        1.519   Durbin-Watson:                   2.032\n",
              "Prob(Omnibus):                  0.468   Jarque-Bera (JB):                1.487\n",
              "Skew:                           0.065   Prob(JB):                        0.475\n",
              "Kurtosis:                       2.748   Cond. No.                         38.5\n",
              "==============================================================================\n",
              "\n",
              "Notes:\n",
              "[1] Standard Errors assume that the covariance matrix of the errors is correctly specified.\n",
              "\"\"\""
            ],
            "text/html": [
              "<table class=\"simpletable\">\n",
              "<caption>OLS Regression Results</caption>\n",
              "<tr>\n",
              "  <th>Dep. Variable:</th>       <td>progression</td>   <th>  R-squared:         </th> <td>   0.513</td>\n",
              "</tr>\n",
              "<tr>\n",
              "  <th>Model:</th>                   <td>OLS</td>       <th>  Adj. R-squared:    </th> <td>   0.507</td>\n",
              "</tr>\n",
              "<tr>\n",
              "  <th>Method:</th>             <td>Least Squares</td>  <th>  F-statistic:       </th> <td>   76.51</td>\n",
              "</tr>\n",
              "<tr>\n",
              "  <th>Date:</th>             <td>Thu, 20 Oct 2022</td> <th>  Prob (F-statistic):</th> <td>5.71e-65</td>\n",
              "</tr>\n",
              "<tr>\n",
              "  <th>Time:</th>                 <td>04:00:10</td>     <th>  Log-Likelihood:    </th> <td> -2388.0</td>\n",
              "</tr>\n",
              "<tr>\n",
              "  <th>No. Observations:</th>      <td>   442</td>      <th>  AIC:               </th> <td>   4790.</td>\n",
              "</tr>\n",
              "<tr>\n",
              "  <th>Df Residuals:</th>          <td>   435</td>      <th>  BIC:               </th> <td>   4819.</td>\n",
              "</tr>\n",
              "<tr>\n",
              "  <th>Df Model:</th>              <td>     6</td>      <th>                     </th>     <td> </td>   \n",
              "</tr>\n",
              "<tr>\n",
              "  <th>Covariance Type:</th>      <td>nonrobust</td>    <th>                     </th>     <td> </td>   \n",
              "</tr>\n",
              "</table>\n",
              "<table class=\"simpletable\">\n",
              "<tr>\n",
              "    <td></td>       <th>coef</th>     <th>std err</th>      <th>t</th>      <th>P>|t|</th>  <th>[0.025</th>    <th>0.975]</th>  \n",
              "</tr>\n",
              "<tr>\n",
              "  <th>const</th> <td>  152.1335</td> <td>    2.575</td> <td>   59.072</td> <td> 0.000</td> <td>  147.072</td> <td>  157.195</td>\n",
              "</tr>\n",
              "<tr>\n",
              "  <th>sex</th>   <td> -224.9789</td> <td>   60.186</td> <td>   -3.738</td> <td> 0.000</td> <td> -343.270</td> <td> -106.688</td>\n",
              "</tr>\n",
              "<tr>\n",
              "  <th>bmi</th>   <td>  548.6486</td> <td>   64.565</td> <td>    8.498</td> <td> 0.000</td> <td>  421.750</td> <td>  675.547</td>\n",
              "</tr>\n",
              "<tr>\n",
              "  <th>bp</th>    <td>  334.4542</td> <td>   63.062</td> <td>    5.304</td> <td> 0.000</td> <td>  210.510</td> <td>  458.398</td>\n",
              "</tr>\n",
              "<tr>\n",
              "  <th>s1</th>    <td> -306.4788</td> <td>   68.411</td> <td>   -4.480</td> <td> 0.000</td> <td> -440.936</td> <td> -172.022</td>\n",
              "</tr>\n",
              "<tr>\n",
              "  <th>s4</th>    <td>  279.2124</td> <td>   80.134</td> <td>    3.484</td> <td> 0.001</td> <td>  121.715</td> <td>  436.710</td>\n",
              "</tr>\n",
              "<tr>\n",
              "  <th>s5</th>    <td>  558.9589</td> <td>   76.305</td> <td>    7.325</td> <td> 0.000</td> <td>  408.987</td> <td>  708.930</td>\n",
              "</tr>\n",
              "</table>\n",
              "<table class=\"simpletable\">\n",
              "<tr>\n",
              "  <th>Omnibus:</th>       <td> 1.519</td> <th>  Durbin-Watson:     </th> <td>   2.032</td>\n",
              "</tr>\n",
              "<tr>\n",
              "  <th>Prob(Omnibus):</th> <td> 0.468</td> <th>  Jarque-Bera (JB):  </th> <td>   1.487</td>\n",
              "</tr>\n",
              "<tr>\n",
              "  <th>Skew:</th>          <td> 0.065</td> <th>  Prob(JB):          </th> <td>   0.475</td>\n",
              "</tr>\n",
              "<tr>\n",
              "  <th>Kurtosis:</th>      <td> 2.748</td> <th>  Cond. No.          </th> <td>    38.5</td>\n",
              "</tr>\n",
              "</table><br/><br/>Notes:<br/>[1] Standard Errors assume that the covariance matrix of the errors is correctly specified."
            ]
          },
          "metadata": {},
          "execution_count": 37
        }
      ]
    },
    {
      "cell_type": "code",
      "source": [
        "LinReg_test2 = OLS(y,X).fit()\n",
        "LinReg_test2.summary()"
      ],
      "metadata": {
        "colab": {
          "base_uri": "https://localhost:8080/",
          "height": 545
        },
        "id": "rBLOGbl2r38y",
        "outputId": "175d5030-bbd4-4b80-d756-9bcba6674151"
      },
      "execution_count": null,
      "outputs": [
        {
          "output_type": "execute_result",
          "data": {
            "text/plain": [
              "<class 'statsmodels.iolib.summary.Summary'>\n",
              "\"\"\"\n",
              "                            OLS Regression Results                            \n",
              "==============================================================================\n",
              "Dep. Variable:            progression   R-squared:                       0.513\n",
              "Model:                            OLS   Adj. R-squared:                  0.507\n",
              "Method:                 Least Squares   F-statistic:                     76.51\n",
              "Date:                Thu, 20 Oct 2022   Prob (F-statistic):           5.71e-65\n",
              "Time:                        04:00:10   Log-Likelihood:                -2388.0\n",
              "No. Observations:                 442   AIC:                             4790.\n",
              "Df Residuals:                     435   BIC:                             4819.\n",
              "Df Model:                           6                                         \n",
              "Covariance Type:            nonrobust                                         \n",
              "==============================================================================\n",
              "                 coef    std err          t      P>|t|      [0.025      0.975]\n",
              "------------------------------------------------------------------------------\n",
              "const        152.1335      2.575     59.072      0.000     147.072     157.195\n",
              "sex         -224.9789     60.186     -3.738      0.000    -343.270    -106.688\n",
              "bmi          548.6486     64.565      8.498      0.000     421.750     675.547\n",
              "bp           334.4542     63.062      5.304      0.000     210.510     458.398\n",
              "s1          -306.4788     68.411     -4.480      0.000    -440.936    -172.022\n",
              "s4           279.2124     80.134      3.484      0.001     121.715     436.710\n",
              "s5           558.9589     76.305      7.325      0.000     408.987     708.930\n",
              "==============================================================================\n",
              "Omnibus:                        1.519   Durbin-Watson:                   2.032\n",
              "Prob(Omnibus):                  0.468   Jarque-Bera (JB):                1.487\n",
              "Skew:                           0.065   Prob(JB):                        0.475\n",
              "Kurtosis:                       2.748   Cond. No.                         38.5\n",
              "==============================================================================\n",
              "\n",
              "Notes:\n",
              "[1] Standard Errors assume that the covariance matrix of the errors is correctly specified.\n",
              "\"\"\""
            ],
            "text/html": [
              "<table class=\"simpletable\">\n",
              "<caption>OLS Regression Results</caption>\n",
              "<tr>\n",
              "  <th>Dep. Variable:</th>       <td>progression</td>   <th>  R-squared:         </th> <td>   0.513</td>\n",
              "</tr>\n",
              "<tr>\n",
              "  <th>Model:</th>                   <td>OLS</td>       <th>  Adj. R-squared:    </th> <td>   0.507</td>\n",
              "</tr>\n",
              "<tr>\n",
              "  <th>Method:</th>             <td>Least Squares</td>  <th>  F-statistic:       </th> <td>   76.51</td>\n",
              "</tr>\n",
              "<tr>\n",
              "  <th>Date:</th>             <td>Thu, 20 Oct 2022</td> <th>  Prob (F-statistic):</th> <td>5.71e-65</td>\n",
              "</tr>\n",
              "<tr>\n",
              "  <th>Time:</th>                 <td>04:00:10</td>     <th>  Log-Likelihood:    </th> <td> -2388.0</td>\n",
              "</tr>\n",
              "<tr>\n",
              "  <th>No. Observations:</th>      <td>   442</td>      <th>  AIC:               </th> <td>   4790.</td>\n",
              "</tr>\n",
              "<tr>\n",
              "  <th>Df Residuals:</th>          <td>   435</td>      <th>  BIC:               </th> <td>   4819.</td>\n",
              "</tr>\n",
              "<tr>\n",
              "  <th>Df Model:</th>              <td>     6</td>      <th>                     </th>     <td> </td>   \n",
              "</tr>\n",
              "<tr>\n",
              "  <th>Covariance Type:</th>      <td>nonrobust</td>    <th>                     </th>     <td> </td>   \n",
              "</tr>\n",
              "</table>\n",
              "<table class=\"simpletable\">\n",
              "<tr>\n",
              "    <td></td>       <th>coef</th>     <th>std err</th>      <th>t</th>      <th>P>|t|</th>  <th>[0.025</th>    <th>0.975]</th>  \n",
              "</tr>\n",
              "<tr>\n",
              "  <th>const</th> <td>  152.1335</td> <td>    2.575</td> <td>   59.072</td> <td> 0.000</td> <td>  147.072</td> <td>  157.195</td>\n",
              "</tr>\n",
              "<tr>\n",
              "  <th>sex</th>   <td> -224.9789</td> <td>   60.186</td> <td>   -3.738</td> <td> 0.000</td> <td> -343.270</td> <td> -106.688</td>\n",
              "</tr>\n",
              "<tr>\n",
              "  <th>bmi</th>   <td>  548.6486</td> <td>   64.565</td> <td>    8.498</td> <td> 0.000</td> <td>  421.750</td> <td>  675.547</td>\n",
              "</tr>\n",
              "<tr>\n",
              "  <th>bp</th>    <td>  334.4542</td> <td>   63.062</td> <td>    5.304</td> <td> 0.000</td> <td>  210.510</td> <td>  458.398</td>\n",
              "</tr>\n",
              "<tr>\n",
              "  <th>s1</th>    <td> -306.4788</td> <td>   68.411</td> <td>   -4.480</td> <td> 0.000</td> <td> -440.936</td> <td> -172.022</td>\n",
              "</tr>\n",
              "<tr>\n",
              "  <th>s4</th>    <td>  279.2124</td> <td>   80.134</td> <td>    3.484</td> <td> 0.001</td> <td>  121.715</td> <td>  436.710</td>\n",
              "</tr>\n",
              "<tr>\n",
              "  <th>s5</th>    <td>  558.9589</td> <td>   76.305</td> <td>    7.325</td> <td> 0.000</td> <td>  408.987</td> <td>  708.930</td>\n",
              "</tr>\n",
              "</table>\n",
              "<table class=\"simpletable\">\n",
              "<tr>\n",
              "  <th>Omnibus:</th>       <td> 1.519</td> <th>  Durbin-Watson:     </th> <td>   2.032</td>\n",
              "</tr>\n",
              "<tr>\n",
              "  <th>Prob(Omnibus):</th> <td> 0.468</td> <th>  Jarque-Bera (JB):  </th> <td>   1.487</td>\n",
              "</tr>\n",
              "<tr>\n",
              "  <th>Skew:</th>          <td> 0.065</td> <th>  Prob(JB):          </th> <td>   0.475</td>\n",
              "</tr>\n",
              "<tr>\n",
              "  <th>Kurtosis:</th>      <td> 2.748</td> <th>  Cond. No.          </th> <td>    38.5</td>\n",
              "</tr>\n",
              "</table><br/><br/>Notes:<br/>[1] Standard Errors assume that the covariance matrix of the errors is correctly specified."
            ]
          },
          "metadata": {},
          "execution_count": 38
        }
      ]
    },
    {
      "cell_type": "code",
      "source": [
        "LinReg_test3 = OLS(y,X).fit()\n",
        "LinReg_test3.summary()"
      ],
      "metadata": {
        "colab": {
          "base_uri": "https://localhost:8080/",
          "height": 545
        },
        "id": "YsHhhjxasj-u",
        "outputId": "02820e62-afe5-45bb-ca3c-787f59ab93d3"
      },
      "execution_count": null,
      "outputs": [
        {
          "output_type": "execute_result",
          "data": {
            "text/plain": [
              "<class 'statsmodels.iolib.summary.Summary'>\n",
              "\"\"\"\n",
              "                            OLS Regression Results                            \n",
              "==============================================================================\n",
              "Dep. Variable:            progression   R-squared:                       0.513\n",
              "Model:                            OLS   Adj. R-squared:                  0.507\n",
              "Method:                 Least Squares   F-statistic:                     76.51\n",
              "Date:                Thu, 20 Oct 2022   Prob (F-statistic):           5.71e-65\n",
              "Time:                        04:00:10   Log-Likelihood:                -2388.0\n",
              "No. Observations:                 442   AIC:                             4790.\n",
              "Df Residuals:                     435   BIC:                             4819.\n",
              "Df Model:                           6                                         \n",
              "Covariance Type:            nonrobust                                         \n",
              "==============================================================================\n",
              "                 coef    std err          t      P>|t|      [0.025      0.975]\n",
              "------------------------------------------------------------------------------\n",
              "const        152.1335      2.575     59.072      0.000     147.072     157.195\n",
              "sex         -224.9789     60.186     -3.738      0.000    -343.270    -106.688\n",
              "bmi          548.6486     64.565      8.498      0.000     421.750     675.547\n",
              "bp           334.4542     63.062      5.304      0.000     210.510     458.398\n",
              "s1          -306.4788     68.411     -4.480      0.000    -440.936    -172.022\n",
              "s4           279.2124     80.134      3.484      0.001     121.715     436.710\n",
              "s5           558.9589     76.305      7.325      0.000     408.987     708.930\n",
              "==============================================================================\n",
              "Omnibus:                        1.519   Durbin-Watson:                   2.032\n",
              "Prob(Omnibus):                  0.468   Jarque-Bera (JB):                1.487\n",
              "Skew:                           0.065   Prob(JB):                        0.475\n",
              "Kurtosis:                       2.748   Cond. No.                         38.5\n",
              "==============================================================================\n",
              "\n",
              "Notes:\n",
              "[1] Standard Errors assume that the covariance matrix of the errors is correctly specified.\n",
              "\"\"\""
            ],
            "text/html": [
              "<table class=\"simpletable\">\n",
              "<caption>OLS Regression Results</caption>\n",
              "<tr>\n",
              "  <th>Dep. Variable:</th>       <td>progression</td>   <th>  R-squared:         </th> <td>   0.513</td>\n",
              "</tr>\n",
              "<tr>\n",
              "  <th>Model:</th>                   <td>OLS</td>       <th>  Adj. R-squared:    </th> <td>   0.507</td>\n",
              "</tr>\n",
              "<tr>\n",
              "  <th>Method:</th>             <td>Least Squares</td>  <th>  F-statistic:       </th> <td>   76.51</td>\n",
              "</tr>\n",
              "<tr>\n",
              "  <th>Date:</th>             <td>Thu, 20 Oct 2022</td> <th>  Prob (F-statistic):</th> <td>5.71e-65</td>\n",
              "</tr>\n",
              "<tr>\n",
              "  <th>Time:</th>                 <td>04:00:10</td>     <th>  Log-Likelihood:    </th> <td> -2388.0</td>\n",
              "</tr>\n",
              "<tr>\n",
              "  <th>No. Observations:</th>      <td>   442</td>      <th>  AIC:               </th> <td>   4790.</td>\n",
              "</tr>\n",
              "<tr>\n",
              "  <th>Df Residuals:</th>          <td>   435</td>      <th>  BIC:               </th> <td>   4819.</td>\n",
              "</tr>\n",
              "<tr>\n",
              "  <th>Df Model:</th>              <td>     6</td>      <th>                     </th>     <td> </td>   \n",
              "</tr>\n",
              "<tr>\n",
              "  <th>Covariance Type:</th>      <td>nonrobust</td>    <th>                     </th>     <td> </td>   \n",
              "</tr>\n",
              "</table>\n",
              "<table class=\"simpletable\">\n",
              "<tr>\n",
              "    <td></td>       <th>coef</th>     <th>std err</th>      <th>t</th>      <th>P>|t|</th>  <th>[0.025</th>    <th>0.975]</th>  \n",
              "</tr>\n",
              "<tr>\n",
              "  <th>const</th> <td>  152.1335</td> <td>    2.575</td> <td>   59.072</td> <td> 0.000</td> <td>  147.072</td> <td>  157.195</td>\n",
              "</tr>\n",
              "<tr>\n",
              "  <th>sex</th>   <td> -224.9789</td> <td>   60.186</td> <td>   -3.738</td> <td> 0.000</td> <td> -343.270</td> <td> -106.688</td>\n",
              "</tr>\n",
              "<tr>\n",
              "  <th>bmi</th>   <td>  548.6486</td> <td>   64.565</td> <td>    8.498</td> <td> 0.000</td> <td>  421.750</td> <td>  675.547</td>\n",
              "</tr>\n",
              "<tr>\n",
              "  <th>bp</th>    <td>  334.4542</td> <td>   63.062</td> <td>    5.304</td> <td> 0.000</td> <td>  210.510</td> <td>  458.398</td>\n",
              "</tr>\n",
              "<tr>\n",
              "  <th>s1</th>    <td> -306.4788</td> <td>   68.411</td> <td>   -4.480</td> <td> 0.000</td> <td> -440.936</td> <td> -172.022</td>\n",
              "</tr>\n",
              "<tr>\n",
              "  <th>s4</th>    <td>  279.2124</td> <td>   80.134</td> <td>    3.484</td> <td> 0.001</td> <td>  121.715</td> <td>  436.710</td>\n",
              "</tr>\n",
              "<tr>\n",
              "  <th>s5</th>    <td>  558.9589</td> <td>   76.305</td> <td>    7.325</td> <td> 0.000</td> <td>  408.987</td> <td>  708.930</td>\n",
              "</tr>\n",
              "</table>\n",
              "<table class=\"simpletable\">\n",
              "<tr>\n",
              "  <th>Omnibus:</th>       <td> 1.519</td> <th>  Durbin-Watson:     </th> <td>   2.032</td>\n",
              "</tr>\n",
              "<tr>\n",
              "  <th>Prob(Omnibus):</th> <td> 0.468</td> <th>  Jarque-Bera (JB):  </th> <td>   1.487</td>\n",
              "</tr>\n",
              "<tr>\n",
              "  <th>Skew:</th>          <td> 0.065</td> <th>  Prob(JB):          </th> <td>   0.475</td>\n",
              "</tr>\n",
              "<tr>\n",
              "  <th>Kurtosis:</th>      <td> 2.748</td> <th>  Cond. No.          </th> <td>    38.5</td>\n",
              "</tr>\n",
              "</table><br/><br/>Notes:<br/>[1] Standard Errors assume that the covariance matrix of the errors is correctly specified."
            ]
          },
          "metadata": {},
          "execution_count": 39
        }
      ]
    },
    {
      "cell_type": "code",
      "source": [
        "LinReg_test4 = OLS(y,X).fit()\n",
        "LinReg_test4.summary()"
      ],
      "metadata": {
        "colab": {
          "base_uri": "https://localhost:8080/",
          "height": 545
        },
        "id": "n4ZU3SFFs3-l",
        "outputId": "16b8685f-0fcc-41ff-fdde-053794bc68b7"
      },
      "execution_count": null,
      "outputs": [
        {
          "output_type": "execute_result",
          "data": {
            "text/plain": [
              "<class 'statsmodels.iolib.summary.Summary'>\n",
              "\"\"\"\n",
              "                            OLS Regression Results                            \n",
              "==============================================================================\n",
              "Dep. Variable:            progression   R-squared:                       0.513\n",
              "Model:                            OLS   Adj. R-squared:                  0.507\n",
              "Method:                 Least Squares   F-statistic:                     76.51\n",
              "Date:                Thu, 20 Oct 2022   Prob (F-statistic):           5.71e-65\n",
              "Time:                        04:00:10   Log-Likelihood:                -2388.0\n",
              "No. Observations:                 442   AIC:                             4790.\n",
              "Df Residuals:                     435   BIC:                             4819.\n",
              "Df Model:                           6                                         \n",
              "Covariance Type:            nonrobust                                         \n",
              "==============================================================================\n",
              "                 coef    std err          t      P>|t|      [0.025      0.975]\n",
              "------------------------------------------------------------------------------\n",
              "const        152.1335      2.575     59.072      0.000     147.072     157.195\n",
              "sex         -224.9789     60.186     -3.738      0.000    -343.270    -106.688\n",
              "bmi          548.6486     64.565      8.498      0.000     421.750     675.547\n",
              "bp           334.4542     63.062      5.304      0.000     210.510     458.398\n",
              "s1          -306.4788     68.411     -4.480      0.000    -440.936    -172.022\n",
              "s4           279.2124     80.134      3.484      0.001     121.715     436.710\n",
              "s5           558.9589     76.305      7.325      0.000     408.987     708.930\n",
              "==============================================================================\n",
              "Omnibus:                        1.519   Durbin-Watson:                   2.032\n",
              "Prob(Omnibus):                  0.468   Jarque-Bera (JB):                1.487\n",
              "Skew:                           0.065   Prob(JB):                        0.475\n",
              "Kurtosis:                       2.748   Cond. No.                         38.5\n",
              "==============================================================================\n",
              "\n",
              "Notes:\n",
              "[1] Standard Errors assume that the covariance matrix of the errors is correctly specified.\n",
              "\"\"\""
            ],
            "text/html": [
              "<table class=\"simpletable\">\n",
              "<caption>OLS Regression Results</caption>\n",
              "<tr>\n",
              "  <th>Dep. Variable:</th>       <td>progression</td>   <th>  R-squared:         </th> <td>   0.513</td>\n",
              "</tr>\n",
              "<tr>\n",
              "  <th>Model:</th>                   <td>OLS</td>       <th>  Adj. R-squared:    </th> <td>   0.507</td>\n",
              "</tr>\n",
              "<tr>\n",
              "  <th>Method:</th>             <td>Least Squares</td>  <th>  F-statistic:       </th> <td>   76.51</td>\n",
              "</tr>\n",
              "<tr>\n",
              "  <th>Date:</th>             <td>Thu, 20 Oct 2022</td> <th>  Prob (F-statistic):</th> <td>5.71e-65</td>\n",
              "</tr>\n",
              "<tr>\n",
              "  <th>Time:</th>                 <td>04:00:10</td>     <th>  Log-Likelihood:    </th> <td> -2388.0</td>\n",
              "</tr>\n",
              "<tr>\n",
              "  <th>No. Observations:</th>      <td>   442</td>      <th>  AIC:               </th> <td>   4790.</td>\n",
              "</tr>\n",
              "<tr>\n",
              "  <th>Df Residuals:</th>          <td>   435</td>      <th>  BIC:               </th> <td>   4819.</td>\n",
              "</tr>\n",
              "<tr>\n",
              "  <th>Df Model:</th>              <td>     6</td>      <th>                     </th>     <td> </td>   \n",
              "</tr>\n",
              "<tr>\n",
              "  <th>Covariance Type:</th>      <td>nonrobust</td>    <th>                     </th>     <td> </td>   \n",
              "</tr>\n",
              "</table>\n",
              "<table class=\"simpletable\">\n",
              "<tr>\n",
              "    <td></td>       <th>coef</th>     <th>std err</th>      <th>t</th>      <th>P>|t|</th>  <th>[0.025</th>    <th>0.975]</th>  \n",
              "</tr>\n",
              "<tr>\n",
              "  <th>const</th> <td>  152.1335</td> <td>    2.575</td> <td>   59.072</td> <td> 0.000</td> <td>  147.072</td> <td>  157.195</td>\n",
              "</tr>\n",
              "<tr>\n",
              "  <th>sex</th>   <td> -224.9789</td> <td>   60.186</td> <td>   -3.738</td> <td> 0.000</td> <td> -343.270</td> <td> -106.688</td>\n",
              "</tr>\n",
              "<tr>\n",
              "  <th>bmi</th>   <td>  548.6486</td> <td>   64.565</td> <td>    8.498</td> <td> 0.000</td> <td>  421.750</td> <td>  675.547</td>\n",
              "</tr>\n",
              "<tr>\n",
              "  <th>bp</th>    <td>  334.4542</td> <td>   63.062</td> <td>    5.304</td> <td> 0.000</td> <td>  210.510</td> <td>  458.398</td>\n",
              "</tr>\n",
              "<tr>\n",
              "  <th>s1</th>    <td> -306.4788</td> <td>   68.411</td> <td>   -4.480</td> <td> 0.000</td> <td> -440.936</td> <td> -172.022</td>\n",
              "</tr>\n",
              "<tr>\n",
              "  <th>s4</th>    <td>  279.2124</td> <td>   80.134</td> <td>    3.484</td> <td> 0.001</td> <td>  121.715</td> <td>  436.710</td>\n",
              "</tr>\n",
              "<tr>\n",
              "  <th>s5</th>    <td>  558.9589</td> <td>   76.305</td> <td>    7.325</td> <td> 0.000</td> <td>  408.987</td> <td>  708.930</td>\n",
              "</tr>\n",
              "</table>\n",
              "<table class=\"simpletable\">\n",
              "<tr>\n",
              "  <th>Omnibus:</th>       <td> 1.519</td> <th>  Durbin-Watson:     </th> <td>   2.032</td>\n",
              "</tr>\n",
              "<tr>\n",
              "  <th>Prob(Omnibus):</th> <td> 0.468</td> <th>  Jarque-Bera (JB):  </th> <td>   1.487</td>\n",
              "</tr>\n",
              "<tr>\n",
              "  <th>Skew:</th>          <td> 0.065</td> <th>  Prob(JB):          </th> <td>   0.475</td>\n",
              "</tr>\n",
              "<tr>\n",
              "  <th>Kurtosis:</th>      <td> 2.748</td> <th>  Cond. No.          </th> <td>    38.5</td>\n",
              "</tr>\n",
              "</table><br/><br/>Notes:<br/>[1] Standard Errors assume that the covariance matrix of the errors is correctly specified."
            ]
          },
          "metadata": {},
          "execution_count": 40
        }
      ]
    },
    {
      "cell_type": "markdown",
      "source": [
        "**7. Re-training the model**"
      ],
      "metadata": {
        "id": "Btse1OSyisH1"
      }
    },
    {
      "cell_type": "code",
      "source": [
        "from sklearn.model_selection import train_test_split # training the new model"
      ],
      "metadata": {
        "id": "HvDMl7sftKk9"
      },
      "execution_count": null,
      "outputs": []
    },
    {
      "cell_type": "code",
      "source": [
        "XNew_train,XNew_test,yNew_train,yNew_test = train_test_split(X,y,random_state=0) # Assigining new training and testing data"
      ],
      "metadata": {
        "id": "ewAf-IYgtTcd"
      },
      "execution_count": null,
      "outputs": []
    },
    {
      "cell_type": "code",
      "source": [
        "from sklearn.linear_model import LinearRegression # Fitting the model to check the values.\n",
        "LinRegNew = LinearRegression()\n",
        "LinRegNew=LinRegNew.fit(XNew_train,yNew_train)"
      ],
      "metadata": {
        "id": "ntBEiU3Nt32h"
      },
      "execution_count": null,
      "outputs": []
    },
    {
      "cell_type": "code",
      "source": [
        "LinRegNew.coef_ # checks the coefficients."
      ],
      "metadata": {
        "colab": {
          "base_uri": "https://localhost:8080/"
        },
        "id": "YjJDppe7uPlY",
        "outputId": "252ff632-ee08-4a03-aca4-ef79dfe29e2c"
      },
      "execution_count": null,
      "outputs": [
        {
          "output_type": "execute_result",
          "data": {
            "text/plain": [
              "array([   0.        , -199.3499015 ,  616.13091571,  294.28618699,\n",
              "       -342.45883286,  253.58443985,  597.22839951])"
            ]
          },
          "metadata": {},
          "execution_count": 44
        }
      ]
    },
    {
      "cell_type": "code",
      "source": [
        "linearPredict = LinRegNew.predict(XNew_test) # using predict to check the testing data.\n",
        "linearPredict"
      ],
      "metadata": {
        "colab": {
          "base_uri": "https://localhost:8080/"
        },
        "id": "2IFRVvy6ukLO",
        "outputId": "7221e20e-a7ad-4f30-ff71-83395aecda4e"
      },
      "execution_count": null,
      "outputs": [
        {
          "output_type": "execute_result",
          "data": {
            "text/plain": [
              "array([241.84990477, 248.88866993, 163.96039997, 117.62297207,\n",
              "       192.08884679, 258.17083622, 114.42627225, 188.79290383,\n",
              "       152.04615747, 237.86532024, 167.46063551, 181.54744086,\n",
              "       108.65227506,  89.62858866, 246.56669263,  89.04520503,\n",
              "       143.57617058,  74.38543972,  90.98594286, 210.90298025,\n",
              "       193.70833556, 160.42099911, 161.95075325, 159.95476678,\n",
              "       201.32336739, 166.74099024, 127.5265857 ,  84.22975642,\n",
              "       191.41813849, 162.11256618, 176.60037589,  83.94637526,\n",
              "       140.87325853, 138.83289877, 138.50259559, 193.06652008,\n",
              "       158.38529754, 191.49125808, 126.02663168, 202.91157327,\n",
              "        80.29791647, 156.81175048, 141.88799157, 181.25184827,\n",
              "       178.99150033,  77.75128216, 147.65821939, 137.98555623,\n",
              "       117.35256632, 226.23911608, 161.1911074 ,  75.1517473 ,\n",
              "       154.04640046, 156.85038796, 234.17541245, 173.6946923 ,\n",
              "       188.4522372 , 120.09566629, 130.21716582, 169.53856042,\n",
              "       211.17672004, 171.20924698, 159.05410404, 106.89265746,\n",
              "       262.00548814, 148.7521362 ,  78.16103181, 225.56161709,\n",
              "       205.11114724,  51.61030461,  82.18350994, 130.58746909,\n",
              "       108.27626457, 152.23934641, 132.48659633, 186.77323859,\n",
              "        94.05132292, 196.80220288, 221.59401125, 187.38470061,\n",
              "       147.55748667, 209.93951699,  56.7022491 , 201.61463184,\n",
              "        72.19304431,  88.45282786, 148.33587278, 193.44427881,\n",
              "       129.21645308, 143.67709859,  92.27454822, 124.74437148,\n",
              "        87.85521526, 151.38599115, 124.68606567, 106.50870856,\n",
              "       237.46758365, 231.35693926, 129.86793006, 164.17641144,\n",
              "       191.28524166, 110.64248676, 214.109358  ,  83.55156848,\n",
              "       221.45888864, 113.28152136, 222.64924927, 268.96921698,\n",
              "       111.05784774, 115.55052043, 192.39456885])"
            ]
          },
          "metadata": {},
          "execution_count": 45
        }
      ]
    },
    {
      "cell_type": "code",
      "source": [
        "XNew_test.shape # checking no. of rows and columns"
      ],
      "metadata": {
        "colab": {
          "base_uri": "https://localhost:8080/"
        },
        "id": "yXLYPpBVyprS",
        "outputId": "20b2180b-3a8d-4d53-d059-edc017c93620"
      },
      "execution_count": null,
      "outputs": [
        {
          "output_type": "execute_result",
          "data": {
            "text/plain": [
              "(111, 7)"
            ]
          },
          "metadata": {},
          "execution_count": 46
        }
      ]
    },
    {
      "cell_type": "code",
      "source": [
        "series = pd.Series(linearPredict) # plotting predicted values using hist plot.\n",
        "series.hist(bins=20)"
      ],
      "metadata": {
        "colab": {
          "base_uri": "https://localhost:8080/",
          "height": 282
        },
        "id": "w3TSFsTix642",
        "outputId": "07077099-1be4-491d-f3ca-3571080d58e5"
      },
      "execution_count": null,
      "outputs": [
        {
          "output_type": "execute_result",
          "data": {
            "text/plain": [
              "<matplotlib.axes._subplots.AxesSubplot at 0x7f2651d23410>"
            ]
          },
          "metadata": {},
          "execution_count": 50
        },
        {
          "output_type": "display_data",
          "data": {
            "text/plain": [
              "<Figure size 432x288 with 1 Axes>"
            ],
            "image/png": "[encoded data removed]"
          },
          "metadata": {
            "needs_background": "light"
          }
        }
      ]
    }
  ]
}